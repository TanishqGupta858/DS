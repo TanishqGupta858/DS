{
 "cells": [
  {
   "cell_type": "markdown",
   "id": "7ae18b2f",
   "metadata": {},
   "source": [
    "# Data Science Tools and Ecosystem"
   ]
  },
  {
   "cell_type": "markdown",
   "id": "d66ca4d2",
   "metadata": {},
   "source": [
    "In this notebook, Data Science Tools and Ecosystem are summarized."
   ]
  },
  {
   "cell_type": "markdown",
   "id": "d7f9091a",
   "metadata": {},
   "source": [
    " ***Objectives:***  To perform the give exercises.\n",
    " - List popular languages for Data Science\n",
    " - Some of the commonly used libraries used by Data Scientists \n",
    " - Few examples of evaluating arithmetic expressions in Python\n",
    " - A simple arithmetic expression to mutiply then add integers\n",
    " - Convert 200 minutes to hours by diving by 60\n"
   ]
  },
  {
   "cell_type": "markdown",
   "id": "dab7f5ef",
   "metadata": {},
   "source": [
    " Some of the popular languages that Data Scientists use are:\n",
    "\n",
    " 1.Python\n",
    " \n",
    " 2.R\n",
    " \n",
    " 3.C++\n",
    " \n",
    " 4.Java"
   ]
  },
  {
   "cell_type": "markdown",
   "id": "9bd56d02",
   "metadata": {},
   "source": [
    "Some of the commonly used libraries used by Data Scientists include:\n",
    "\n",
    "1. NumPy\n",
    " \n",
    "2. Pandas\n",
    " \n",
    "3. Matplotlib\n",
    " \n",
    "4. Sicpy"
   ]
  },
  {
   "cell_type": "markdown",
   "id": "f608eaab",
   "metadata": {},
   "source": [
    "|Data Science Tools|\n",
    "|----|\n",
    "|JupyterNotebook|\n",
    "|R studio|\n",
    "|MY SQL|\n"
   ]
  },
  {
   "cell_type": "markdown",
   "id": "866976b0",
   "metadata": {},
   "source": [
    "Below are a few examples of evaluating arithmetic expressions in Python:\n",
    "\n",
    "1. ADD(+)\n",
    "2. Subtract(-)\n",
    "3. Multiply(*)\n",
    "4. Divide(/)\n",
    "5. Power(**)"
   ]
  },
  {
   "cell_type": "code",
   "execution_count": 2,
   "id": "745386c2",
   "metadata": {},
   "outputs": [
    {
     "data": {
      "text/plain": [
       "17"
      ]
     },
     "execution_count": 2,
     "metadata": {},
     "output_type": "execute_result"
    }
   ],
   "source": [
    "#This a simple arithmetic expression to mutiply then add integers\n",
    "(3*4)+5\n"
   ]
  },
  {
   "cell_type": "code",
   "execution_count": 3,
   "id": "35be693b",
   "metadata": {},
   "outputs": [
    {
     "name": "stdout",
     "output_type": "stream",
     "text": [
      "3.3333333333333335\n"
     ]
    }
   ],
   "source": [
    "#This will convert 200 minutes to hours by diving by 60\n",
    "minutes = 200\n",
    "hours = minutes/60\n",
    "print(hours)"
   ]
  },
  {
   "cell_type": "markdown",
   "id": "3db4115a",
   "metadata": {},
   "source": [
    "## Author \n",
    "Tanishq Gupta"
   ]
  }
 ],
 "metadata": {
  "kernelspec": {
   "display_name": "Python 3 (ipykernel)",
   "language": "python",
   "name": "python3"
  },
  "language_info": {
   "codemirror_mode": {
    "name": "ipython",
    "version": 3
   },
   "file_extension": ".py",
   "mimetype": "text/x-python",
   "name": "python",
   "nbconvert_exporter": "python",
   "pygments_lexer": "ipython3",
   "version": "3.11.5"
  }
 },
 "nbformat": 4,
 "nbformat_minor": 5
}
